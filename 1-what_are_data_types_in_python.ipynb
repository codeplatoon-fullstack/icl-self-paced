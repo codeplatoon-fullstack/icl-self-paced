{
 "cells": [
  {
   "cell_type": "markdown",
   "metadata": {},
   "source": [
    "# What are Data Types in Python?\n",
    "\n",
    "## Intro\n",
    "\n",
    "Now that we've talked about what each individual Data Type in Python is and what purposes they serve we can dive into creating them within Python using Python syntax!"
   ]
  },
  {
   "cell_type": "markdown",
   "metadata": {},
   "source": [
    "## Integers, Variables, and type()\n",
    "\n",
    "As you may recall, `Integers` are essentially just `solid numbers` within Python and can be created as such:"
   ]
  },
  {
   "cell_type": "code",
   "execution_count": 3,
   "metadata": {},
   "outputs": [
    {
     "data": {
      "text/plain": [
       "1775"
      ]
     },
     "execution_count": 3,
     "metadata": {},
     "output_type": "execute_result"
    }
   ],
   "source": [
    "1\n",
    "20\n",
    "1775"
   ]
  },
  {
   "cell_type": "markdown",
   "metadata": {},
   "source": [
    "That will create three separate numbers within my current script, but currently I have no way to reference these numbers since they are not being stored within `variables`. With that said lets add some variables to them so we could reference them later on within our script:"
   ]
  },
  {
   "cell_type": "code",
   "execution_count": 2,
   "metadata": {},
   "outputs": [],
   "source": [
    "one = 1\n",
    "twenty = 20\n",
    "marines_birth_year = 1775"
   ]
  },
  {
   "cell_type": "markdown",
   "metadata": {},
   "source": [
    "Notice the common convention here. We stablish a `variable`(an imaginary alias for a data type within our program that describes the type itself) and utilize the `=` sign to then give it a `value` to store.\n",
    "\n",
    "Now if I reference any of these variables within my script I'll be able to see their return value. Try it out on the next block call one of the three variables and see what it returns:"
   ]
  },
  {
   "cell_type": "code",
   "execution_count": 5,
   "metadata": {},
   "outputs": [
    {
     "data": {
      "text/plain": [
       "1775"
      ]
     },
     "execution_count": 5,
     "metadata": {},
     "output_type": "execute_result"
    }
   ],
   "source": [
    "# Call one of the variables we've created\n"
   ]
  },
  {
   "cell_type": "markdown",
   "metadata": {},
   "source": [
    "Now we know we have multiple variables that are potentially holding integer values... but, how do we make sure? There is a built in `method`(functions) that can take a variable as an `input` and `output` the type the variable is. This method is known as the `type()` method and it's used as such:"
   ]
  },
  {
   "cell_type": "code",
   "execution_count": 6,
   "metadata": {},
   "outputs": [
    {
     "data": {
      "text/plain": [
       "int"
      ]
     },
     "execution_count": 6,
     "metadata": {},
     "output_type": "execute_result"
    }
   ],
   "source": [
    "# this should return `int`\n",
    "type(marines_birth_year)"
   ]
  },
  {
   "cell_type": "markdown",
   "metadata": {},
   "source": [
    "Again, a method is just a function that takes in input and spits out output. The `type` method accepts a variable as an input (place the input within the parameters) and provides the type of said variable as the output."
   ]
  },
  {
   "cell_type": "markdown",
   "metadata": {},
   "source": [
    "## Floats\n",
    "\n",
    "Floats are not solid numbers, they are decimal numbers. As long as they have a `decimal` within it, Python will identify it as a `float`. \n",
    "\n",
    "Lets take a look at a couple of examples of a `float` number and what the `type` method returns for them:"
   ]
  },
  {
   "cell_type": "code",
   "execution_count": 10,
   "metadata": {},
   "outputs": [
    {
     "data": {
      "text/plain": [
       "int"
      ]
     },
     "execution_count": 10,
     "metadata": {},
     "output_type": "execute_result"
    }
   ],
   "source": [
    "pie = 3.14\n",
    "half = 0.5\n",
    "a_fourth = 0.25\n",
    "whole_number = 41\n",
    "\n",
    "# change the INPUT for the type method and see what it returns for each variable\n",
    "type(whole_number)"
   ]
  },
  {
   "cell_type": "markdown",
   "metadata": {},
   "source": [
    "## Strings\n",
    "\n",
    "Strings can be defined in multiple ways within Python and we will spend a considerable amount of time breaking each method down further on in the course. A string can be defined in as `a series of characters, special characters, spaces, and numbers` and is identified as a string by Python by an opening and closing of a double quotes (\"\") or single quotes ('').\n",
    "\n",
    "Lets create a couple of descriptive variables holding strings and run the `type` method to ensure they are in fact holding strings."
   ]
  },
  {
   "cell_type": "code",
   "execution_count": 11,
   "metadata": {},
   "outputs": [
    {
     "data": {
      "text/plain": [
       "str"
      ]
     },
     "execution_count": 11,
     "metadata": {},
     "output_type": "execute_result"
    }
   ],
   "source": [
    "greeting = \"Good afternoon\"\n",
    "name = 'Francisco Avila'\n",
    "string_number = \"100\"\n",
    "\n",
    "# change the INPUT for the type method and see what it returns for each variable\n",
    "type(greeting)"
   ]
  },
  {
   "cell_type": "markdown",
   "metadata": {},
   "source": [
    "## Booleans\n",
    "\n",
    "A Boolean is a statement of `True` or `False` and is identified by Python as such"
   ]
  },
  {
   "cell_type": "code",
   "execution_count": null,
   "metadata": {},
   "outputs": [],
   "source": [
    "is_coding_awesome = True\n",
    "should_i_ever_stop_coding = False\n",
    "\n",
    "# change the INPUT for the type method and see what it returns for each variable\n",
    "type(is_coding_awesome)"
   ]
  },
  {
   "cell_type": "markdown",
   "metadata": {},
   "source": [
    "## None\n",
    "\n",
    "None is a type that holds nothing, it's none-existent, there's nothing there. Empty."
   ]
  },
  {
   "cell_type": "code",
   "execution_count": 12,
   "metadata": {},
   "outputs": [
    {
     "data": {
      "text/plain": [
       "NoneType"
      ]
     },
     "execution_count": 12,
     "metadata": {},
     "output_type": "execute_result"
    }
   ],
   "source": [
    "reasons_to_stop_coding = None\n",
    "\n",
    "type(reasons_to_stop_coding)"
   ]
  },
  {
   "cell_type": "markdown",
   "metadata": {},
   "source": [
    "## Lists\n",
    "\n",
    "Lists are used to store different data in an organized manner. What makes lists unique is that they can hold any data type within each one of its slots, they access each slot by their occupancy number (index), and each list slot can be changed, deleted, or created.\n",
    "\n",
    "Lists are identified within Python by the use of `[]` brackets and separate each index (slot) by a comma. Lets create a list within our script and save it to a variable."
   ]
  },
  {
   "cell_type": "code",
   "execution_count": 14,
   "metadata": {},
   "outputs": [
    {
     "data": {
      "text/plain": [
       "list"
      ]
     },
     "execution_count": 14,
     "metadata": {},
     "output_type": "execute_result"
    }
   ],
   "source": [
    "tech_cos = [\"Apple\", \"Facebook\", \"Microsoft\", \"Google\"]\n",
    "\n",
    "type(tech_cos)"
   ]
  },
  {
   "cell_type": "markdown",
   "metadata": {},
   "source": [
    "There is a lot more that goes into `lists` than just creating one but we will be diving into these in a future lecture."
   ]
  },
  {
   "cell_type": "markdown",
   "metadata": {},
   "source": [
    "## Tuples\n",
    "\n",
    "Tuples are identifies in Python by `()` and work just like a list in the matter that they can store any data type within them and separate each of their indexes(slots) by a comma. \n",
    "\n",
    "The HUGE difference between Lists and Tuples is that once a Tuple is created it could never be changed within the script."
   ]
  },
  {
   "cell_type": "code",
   "execution_count": 13,
   "metadata": {},
   "outputs": [
    {
     "data": {
      "text/plain": [
       "tuple"
      ]
     },
     "execution_count": 13,
     "metadata": {},
     "output_type": "execute_result"
    }
   ],
   "source": [
    "big_tech_cos = (\"Apple\", \"Facebook\", \"Microsoft\", \"Google\")\n",
    "\n",
    "type(big_tech_cos)"
   ]
  },
  {
   "cell_type": "markdown",
   "metadata": {},
   "source": [
    "## Sets\n",
    "\n",
    "The final data type we have for storing values in a stack (list) is a set which is identified by `{}` in Python. A set is very powerful in it's ability to ensure that no two values within it are the same. It is still mutable (we can change it's content) but it's biggest feature of note is that we can access items within it by an index(slot place) since it is an unordered storage. Meaning once an item is added to the stack we don't know where in the stack it will be located. \n",
    "\n",
    "We will get more into `Sets` in a future lecture but for now lets get some practical application creating some and seeing what the `type` method returns."
   ]
  },
  {
   "cell_type": "code",
   "execution_count": null,
   "metadata": {},
   "outputs": [],
   "source": [
    "my_set = {1, 2, 3, 4, 5}\n",
    "set_of_characters = {\"a\",\"b\",\"c\",\"d\",\"e\",\"f\",\"g\"}\n",
    "\n",
    "# change the INPUT for the type method and see what it returns for each variable\n",
    "type(my_set)"
   ]
  },
  {
   "cell_type": "markdown",
   "metadata": {},
   "source": [
    "## Dictionaries\n",
    "\n",
    "Dictionaries are a `key : value` pair storage system. Think of this data type as a storage for multiple locked drawers. You can add, remove drawers and even change their content. To access the value(content) of each individual drawer within this storage you must provide the right key. The biggest features to note about a dictionary is that it can't have repetitive keys and it provides an instant looks up (meaning we don't need to iterate through previous locations to find the value we are looking for).\n",
    "\n",
    "For now let's concentrate on creating dictionaries, we will see a breakdown of dictionaries and how to use them in a future lecture."
   ]
  },
  {
   "cell_type": "code",
   "execution_count": null,
   "metadata": {},
   "outputs": [],
   "source": [
    "key_value_visual = {\n",
    "  \"key1\" : \"value1\", \n",
    "  \"key2\" : \"value2\",\n",
    "}\n",
    "\n",
    "employee = {\n",
    "  \"name\": \"Ruthi Cohen\",\n",
    "  \"title\": \"cashier\",\n",
    "  \"salary\": 50000\n",
    "}\n",
    "\n",
    "# change the INPUT for the type method and see what it returns for each variable\n",
    "type(employee)"
   ]
  },
  {
   "cell_type": "markdown",
   "metadata": {},
   "source": [
    "## Functions\n",
    "\n",
    "Functions are defined within Python by the `def` keyword, a snake_case name, opening and closing parentheses, a semicolon, and an indented block of code which specifies what the function should do. There's quire a bit that goes into what makes up a function but for todays lecture lets focus on defining functions so we can identify them in other scripts."
   ]
  },
  {
   "cell_type": "code",
   "execution_count": 15,
   "metadata": {},
   "outputs": [
    {
     "data": {
      "text/plain": [
       "function"
      ]
     },
     "execution_count": 15,
     "metadata": {},
     "output_type": "execute_result"
    }
   ],
   "source": [
    "def say_hello():\n",
    "    return \"Hello\"\n",
    "\n",
    "def add_two_plus_two():\n",
    "    return 2 + 2\n",
    "\n",
    "# change the INPUT for the type method and see what it returns for each variable\n",
    "type(say_hello)"
   ]
  },
  {
   "cell_type": "markdown",
   "metadata": {},
   "source": [
    "## Conclusion\n",
    "\n",
    "Congratulations, you have successfully learned about Python data types, some of their capabilities and limitations, and how to establish these types within your own Python scripts. I hope to see you again soon.\n",
    "\n",
    "Happy Coding!"
   ]
  }
 ],
 "metadata": {
  "kernelspec": {
   "display_name": "Python 3",
   "language": "python",
   "name": "python3"
  },
  "language_info": {
   "codemirror_mode": {
    "name": "ipython",
    "version": 3
   },
   "file_extension": ".py",
   "mimetype": "text/x-python",
   "name": "python",
   "nbconvert_exporter": "python",
   "pygments_lexer": "ipython3",
   "version": "3.11.3"
  }
 },
 "nbformat": 4,
 "nbformat_minor": 2
}
