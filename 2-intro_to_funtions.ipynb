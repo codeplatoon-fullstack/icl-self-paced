{
 "cells": [
  {
   "cell_type": "markdown",
   "metadata": {},
   "source": [
    "# What are functions in Python\n",
    "\n",
    "## Intro\n",
    "\n",
    "By the end of this lesson, you will be capable of reading, creating, and updating functions withing a Python script. We will cover defining a function, writing a function without parameters, and returning a value for said function.\n",
    "\n",
    "## Defining a function\n",
    "\n",
    "Defining a function in Python happens by using the `def` keyword followed by the name of the function itself. When defining a function, you must ensure to follow this checklist:\n",
    "\n",
    "1. A function is defined in Python by the `def` and followed by the function name\n",
    "2. A function name must be written in lower case letters only\n",
    "3. Any spaces within the function name should be noted by an underscore \"_\"\n",
    "4. A function name can NOT start with a number or special character\n",
    "5. The function name must end with `():` and have it's \"body\" indented below it.\n",
    "\n",
    "### Defining an empty function\n",
    "\n",
    "Sometimes you may want to write some comments about what your function should do and how you want to create your functions behavior. With that said you may want to create a function within your script that does nothing and have it as a place holder to ensure you don't forget it. Which happens more often than I'd like to admit."
   ]
  },
  {
   "cell_type": "code",
   "execution_count": 2,
   "metadata": {},
   "outputs": [],
   "source": [
    "# 1. A function is defined in Python by the `def` and followed by the function name\n",
    "# 2. A function name must be written in lower case letters only\n",
    "# 3. Any spaces within the function name should be noted by an underscore \"_\"\n",
    "# 4. A function name can NOT start with a number or special character\n",
    "# 5. The function name must end with `():` and have it's \"body\" indented below it.\n",
    "def say_helo():\n",
    "    pass # <= pass is a keyword in Python that essentially says ignore me I don't do anything"
   ]
  },
  {
   "cell_type": "markdown",
   "metadata": {},
   "source": [
    "## Defining functions without parameters or return values\n",
    "\n",
    "This `say_hello` function we've defined is currently empty, meaning it takes no parameters, returns no values, and does nothing. Next, we will change our function to hold a variable for a proper greeting. Again, nothing will be returned just yet, and the function won't take anything in just yet."
   ]
  },
  {
   "cell_type": "code",
   "execution_count": 3,
   "metadata": {},
   "outputs": [],
   "source": [
    "def say_hello():\n",
    "    proper_greeting = \"Good afternoon\""
   ]
  },
  {
   "cell_type": "markdown",
   "metadata": {},
   "source": [
    "> This function is no longer empty, although it takes in no parameters and does not return anything, it does create a variable named `proper_greeting` holding a Python string within it."
   ]
  },
  {
   "cell_type": "markdown",
   "metadata": {},
   "source": [
    "## Defining a function with a return value\n",
    "\n",
    "Currently our function `returns` nothing... but what exactly does that mean. First let's take a look at our currents function behavior when we assign it to a variable."
   ]
  },
  {
   "cell_type": "code",
   "execution_count": 5,
   "metadata": {},
   "outputs": [
    {
     "data": {
      "text/plain": [
       "NoneType"
      ]
     },
     "execution_count": 5,
     "metadata": {},
     "output_type": "execute_result"
    }
   ],
   "source": [
    "greeting = say_hello()\n",
    "type(greeting)"
   ]
  },
  {
   "cell_type": "markdown",
   "metadata": {},
   "source": [
    "You'll notice when we run the `type` method on our variable `greeting` we get a `NoneType` meaning that greeting currently holds nothing within it. How is that possible if I told greeting to hold on to a function as it's value?\n",
    "\n",
    "Well, the function `say_hello` doesn't return a value, so since it doesn't return anything to the variable greeting it gets left as `None`. Let's change our code and make our function actually return some information."
   ]
  },
  {
   "cell_type": "code",
   "execution_count": 6,
   "metadata": {},
   "outputs": [
    {
     "data": {
      "text/plain": [
       "str"
      ]
     },
     "execution_count": 6,
     "metadata": {},
     "output_type": "execute_result"
    }
   ],
   "source": [
    "def say_hello():\n",
    "    proper_greeting = \"Good afternoon\"\n",
    "    return proper_greeting\n",
    "\n",
    "greeting = say_hello()\n",
    "type(greeting)"
   ]
  },
  {
   "cell_type": "markdown",
   "metadata": {},
   "source": [
    "Now, you'll notice that the `type` Python method no longer returns `NoneType` instead it returns `str` for a string. Additionally if you were to change the code above and just have the variable `greeting` as the final line, you'll see the value of \"Good afternoon\".\n",
    "\n",
    "How is this happening. Well let's break it down as sequential steps:\n",
    "\n",
    "1. We define a function named `say_hello` that takes in 0 parameters.\n",
    "2. Within this function we create a variable named `proper_greeting` that exists ONLY WITHIN the function.\n",
    "3. The function `say_hello` returns the value of the variable `proper_greeting`.\n",
    "5. We create a variable named `greeting` and give it the value of our function.\n",
    "6. When we call the variable `greeting` the function `say_hello` is triggered and returns it's RETURN value of `proper_greeting`"
   ]
  },
  {
   "cell_type": "markdown",
   "metadata": {},
   "source": [
    "## Passing parameters into a function\n",
    "\n",
    "Now our function can return a proper greeting when triggered, but other than that it doesn't really seem very dynamic nor reusable. This is where parameters come into play, now if I had a series of people I needed to say hello to as a person I can have my function take in the individual persons name and return the greeting with their name within it.\n",
    "\n",
    "Let's make our function take in a persons name and add it to our return statement."
   ]
  },
  {
   "cell_type": "code",
   "execution_count": 8,
   "metadata": {},
   "outputs": [
    {
     "data": {
      "text/plain": [
       "'Good Afternoon, John'"
      ]
     },
     "execution_count": 8,
     "metadata": {},
     "output_type": "execute_result"
    }
   ],
   "source": [
    "def say_hello(person_name):\n",
    "    proper_greeting = \"Good Afternoon, \"\n",
    "    # Our return statement will now add the input to our proper greeting\n",
    "    return proper_greeting + person_name\n",
    "\n",
    "# Alice, Crystal, John, Mark\n",
    "# instead of greeting each person individually as such\n",
    "\n",
    "mark_greeting = \"Good Afternoon, Mark\"\n",
    "crystal_greeting = \"Good Afternoon, Crystal\"\n",
    "\n",
    "# I could write a function that saves me typing time and repeated work\n",
    "\n",
    "alice_greeting = say_hello(\"Alice\")\n",
    "john_greeting = say_hello(\"John\")\n",
    "john_greeting"
   ]
  },
  {
   "cell_type": "markdown",
   "metadata": {},
   "source": [
    "Well what just happend in `say_hello(\"Alice\")`? `Alice` was assigned to the parameter of `person_name` which allows the return statement of `proper_greeting + person_name` to be interpreted as `'Good Afternoon, Alice'`."
   ]
  },
  {
   "cell_type": "markdown",
   "metadata": {},
   "source": [
    "## Capabilities of a function\n",
    "\n",
    "Functions are not limited to one parameter, and can be written for any repeated task that you want to happen. Let's take a look at a more extensive example of what a function can do. Maybe we don't just want our function to greet an individual but instead we want them to send emails to this list of individuals. Let's write that function."
   ]
  },
  {
   "cell_type": "code",
   "execution_count": null,
   "metadata": {},
   "outputs": [],
   "source": [
    "# establish a function that takes in someones name and email\n",
    "def send_email(person_name, person_email):\n",
    "# set a variable of sending to\n",
    "  send_to = person_email\n",
    "# set a variable of sent from\n",
    "  sent_from = \"francisco@codeplatoon.org\"\n",
    "# write the content of the email including individuals name\n",
    "  content = \"Good afternoon \" + person_name + \", I hope this email finds you well!\"\n",
    "# conclude with a closing statement\n",
    "  complete_content = content + \" Respectfully, Francisco Avila\"\n",
    "# return an email dictionary\n",
    "  completed_email = {\"send_to\":send_to, \"sent_from\":sent_from, \"content\":complete_content}\n",
    "  return completed_email\n",
    "  "
   ]
  },
  {
   "cell_type": "markdown",
   "metadata": {},
   "source": [
    "## Conclusion\n",
    "\n",
    "Congratulations, you have completed this notebook section and are now able to construct your own functions in Python. There's a lot more to learn so I hope to see you again soon.\n",
    "\n",
    "Happy Coding!"
   ]
  }
 ],
 "metadata": {
  "kernelspec": {
   "display_name": ".venv",
   "language": "python",
   "name": "python3"
  },
  "language_info": {
   "codemirror_mode": {
    "name": "ipython",
    "version": 3
   },
   "file_extension": ".py",
   "mimetype": "text/x-python",
   "name": "python",
   "nbconvert_exporter": "python",
   "pygments_lexer": "ipython3",
   "version": "3.11.3"
  }
 },
 "nbformat": 4,
 "nbformat_minor": 2
}
